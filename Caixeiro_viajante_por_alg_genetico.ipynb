{
  "nbformat": 4,
  "nbformat_minor": 0,
  "metadata": {
    "colab": {
      "provenance": [],
      "authorship_tag": "ABX9TyOz2pI8cmGcLMQg6mpj6CkR",
      "include_colab_link": true
    },
    "kernelspec": {
      "name": "python3",
      "display_name": "Python 3"
    },
    "language_info": {
      "name": "python"
    }
  },
  "cells": [
    {
      "cell_type": "markdown",
      "metadata": {
        "id": "view-in-github",
        "colab_type": "text"
      },
      "source": [
        "<a href=\"https://colab.research.google.com/github/CBenini07/Projeto-de-IA---Caixeiro-Viajante-por-algoritmo-gen-tico/blob/main/Caixeiro_viajante_por_alg_genetico.ipynb\" target=\"_parent\"><img src=\"https://colab.research.google.com/assets/colab-badge.svg\" alt=\"Open In Colab\"/></a>"
      ]
    },
    {
      "cell_type": "markdown",
      "source": [
        "\n",
        "Nome: Cauã Benini da Silva (801046)\n",
        "\n",
        "Nome: Lucas Pereira Quadros ()\n",
        "\n",
        "---\n",
        "\n"
      ],
      "metadata": {
        "id": "PM-3lqPEfmQJ"
      }
    },
    {
      "cell_type": "code",
      "execution_count": null,
      "metadata": {
        "id": "TBqNpgOYeFD9"
      },
      "outputs": [],
      "source": []
    }
  ]
}